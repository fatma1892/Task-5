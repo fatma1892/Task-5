{
 "cells": [
  {
   "cell_type": "code",
   "execution_count": 6,
   "id": "684dd105",
   "metadata": {
    "ExecuteTime": {
     "end_time": "2023-09-18T15:44:01.793406Z",
     "start_time": "2023-09-18T15:44:01.760381Z"
    }
   },
   "outputs": [
    {
     "name": "stdout",
     "output_type": "stream",
     "text": [
      "Student Name: John Doe\n",
      "Student ID: 12345\n",
      "\n",
      "Enrolled Courses:\n",
      "Course Name: Math\n",
      "Course Code: MATH101\n",
      "Course Name: English\n",
      "Course Code: ENG101\n",
      "\n",
      "\n",
      "Student Name: Jane Smith\n",
      "Student ID: 67890\n",
      "\n",
      "Enrolled Courses:\n",
      "Course Name: Math\n",
      "Course Code: MATH101\n"
     ]
    }
   ],
   "source": [
    "class Student:\n",
    "    def __init__(self, name, id):\n",
    "        self.name = name\n",
    "        self.id = id\n",
    "        self.courses = []\n",
    "\n",
    "    def enroll_course(self, course):\n",
    "        self.courses.append(course)\n",
    "\n",
    "    def drop_course(self, course):\n",
    "        self.courses.remove(course)\n",
    "\n",
    "    def get_courses(self):\n",
    "        return self.courses\n",
    "\n",
    "    def __str__(self):\n",
    "        return f\"Student Name: {self.name}\\nStudent ID: {self.id}\"\n",
    "\n",
    "\n",
    "class Course:\n",
    "    def __init__(self, name, code):\n",
    "        self.name = name\n",
    "        self.code = code\n",
    "        self.students = []\n",
    "\n",
    "    def add_student(self, student):\n",
    "        self.students.append(student)\n",
    "\n",
    "    def remove_student(self, student):\n",
    "        self.students.remove(student)\n",
    "\n",
    "    def get_students(self):\n",
    "        return self.students\n",
    "\n",
    "    def __str__(self):\n",
    "        return f\"Course Name: {self.name}\\nCourse Code: {self.code}\"\n",
    "\n",
    "\n",
    "student1 = Student(\"John Doe\", \"12345\")\n",
    "student2 = Student(\"Jane Smith\", \"67890\")\n",
    "\n",
    "course1 = Course(\"Math\", \"MATH101\")\n",
    "course2 = Course(\"English\", \"ENG101\")\n",
    "\n",
    "course1.add_student(student1)\n",
    "course1.add_student(student2)\n",
    "course2.add_student(student1)\n",
    "\n",
    "student1.enroll_course(course1)\n",
    "student1.enroll_course(course2)\n",
    "student2.enroll_course(course1)\n",
    "\n",
    "print(student1)\n",
    "print(\"\\nEnrolled Courses:\")\n",
    "for course in student1.get_courses():\n",
    "    print(course)\n",
    "\n",
    "print(\"\\n\")\n",
    "\n",
    "print(student2)\n",
    "print(\"\\nEnrolled Courses:\")\n",
    "for course in student2.get_courses():\n",
    "    print(course)"
   ]
  }
 ],
 "metadata": {
  "kernelspec": {
   "display_name": "Python 3 (ipykernel)",
   "language": "python",
   "name": "python3"
  },
  "language_info": {
   "codemirror_mode": {
    "name": "ipython",
    "version": 3
   },
   "file_extension": ".py",
   "mimetype": "text/x-python",
   "name": "python",
   "nbconvert_exporter": "python",
   "pygments_lexer": "ipython3",
   "version": "3.9.13"
  },
  "varInspector": {
   "cols": {
    "lenName": 16,
    "lenType": 16,
    "lenVar": 40
   },
   "kernels_config": {
    "python": {
     "delete_cmd_postfix": "",
     "delete_cmd_prefix": "del ",
     "library": "var_list.py",
     "varRefreshCmd": "print(var_dic_list())"
    },
    "r": {
     "delete_cmd_postfix": ") ",
     "delete_cmd_prefix": "rm(",
     "library": "var_list.r",
     "varRefreshCmd": "cat(var_dic_list()) "
    }
   },
   "types_to_exclude": [
    "module",
    "function",
    "builtin_function_or_method",
    "instance",
    "_Feature"
   ],
   "window_display": false
  }
 },
 "nbformat": 4,
 "nbformat_minor": 5
}
